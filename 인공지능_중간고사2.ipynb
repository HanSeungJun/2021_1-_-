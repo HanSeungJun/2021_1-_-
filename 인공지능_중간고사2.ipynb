{
  "nbformat": 4,
  "nbformat_minor": 0,
  "metadata": {
    "kernelspec": {
      "display_name": "Python 3",
      "language": "python",
      "name": "python3"
    },
    "language_info": {
      "codemirror_mode": {
        "name": "ipython",
        "version": 3
      },
      "file_extension": ".py",
      "mimetype": "text/x-python",
      "name": "python",
      "nbconvert_exporter": "python",
      "pygments_lexer": "ipython3",
      "version": "3.7.9"
    },
    "nav_menu": {
      "height": "252px",
      "width": "333px"
    },
    "toc": {
      "navigate_menu": true,
      "number_sections": true,
      "sideBar": true,
      "threshold": 6,
      "toc_cell": false,
      "toc_section_display": "block",
      "toc_window_display": false
    },
    "colab": {
      "name": "07_ensemble_learning_and_random_forests.ipynb의 사본",
      "provenance": [],
      "include_colab_link": true
    }
  },
  "cells": [
    {
      "cell_type": "markdown",
      "metadata": {
        "id": "view-in-github",
        "colab_type": "text"
      },
      "source": [
        "<a href=\"https://colab.research.google.com/github/HanSeungJun/Spam_filter/blob/main/%EC%9D%B8%EA%B3%B5%EC%A7%80%EB%8A%A5_%EC%A4%91%EA%B0%84%EA%B3%A0%EC%82%AC2.ipynb\" target=\"_parent\"><img src=\"https://colab.research.google.com/assets/colab-badge.svg\" alt=\"Open In Colab\"/></a>"
      ]
    },
    {
      "cell_type": "markdown",
      "metadata": {
        "id": "zg1H0bMLtySt"
      },
      "source": [
        "**인공지능 / 중간고사2 / 201802873 / 한승준**"
      ]
    },
    {
      "cell_type": "markdown",
      "metadata": {
        "id": "Emh4QTJGtyS9"
      },
      "source": [
        "<table align=\"left\">\n",
        "  <td>\n",
        "    <a target=\"_blank\" href=\"https://colab.research.google.com/github/ageron/handson-ml2/blob/master/07_ensemble_learning_and_random_forests.ipynb\"><img src=\"https://www.tensorflow.org/images/colab_logo_32px.png\" />Run in Google Colab</a>\n",
        "  </td>\n",
        "</table>"
      ]
    },
    {
      "cell_type": "markdown",
      "metadata": {
        "id": "ki-P7dF1tyS-"
      },
      "source": [
        "# Setup"
      ]
    },
    {
      "cell_type": "markdown",
      "metadata": {
        "id": "KVJ6OkDCtyS_"
      },
      "source": [
        "First, let's import a few common modules, ensure MatplotLib plots figures inline and prepare a function to save the figures. We also check that Python 3.5 or later is installed (although Python 2.x may work, it is deprecated so we strongly recommend you use Python 3 instead), as well as Scikit-Learn ≥0.20."
      ]
    },
    {
      "cell_type": "code",
      "metadata": {
        "id": "mT5p81LwtyTA"
      },
      "source": [
        "# Python ≥3.5 is required\n",
        "import sys\n",
        "assert sys.version_info >= (3, 5)\n",
        "\n",
        "# Scikit-Learn ≥0.20 is required\n",
        "import sklearn\n",
        "assert sklearn.__version__ >= \"0.20\"\n",
        "\n",
        "# Common imports\n",
        "import numpy as np\n",
        "import os\n",
        "\n",
        "# to make this notebook's output stable across runs\n",
        "np.random.seed(42)\n",
        "\n",
        "# To plot pretty figures\n",
        "%matplotlib inline\n",
        "import matplotlib as mpl\n",
        "import matplotlib.pyplot as plt\n",
        "mpl.rc('axes', labelsize=14)\n",
        "mpl.rc('xtick', labelsize=12)\n",
        "mpl.rc('ytick', labelsize=12)\n",
        "\n",
        "# Where to save the figures\n",
        "PROJECT_ROOT_DIR = \".\"\n",
        "CHAPTER_ID = \"ensembles\"\n",
        "IMAGES_PATH = os.path.join(PROJECT_ROOT_DIR, \"images\", CHAPTER_ID)\n",
        "os.makedirs(IMAGES_PATH, exist_ok=True)\n",
        "\n",
        "def save_fig(fig_id, tight_layout=True, fig_extension=\"png\", resolution=300):\n",
        "    path = os.path.join(IMAGES_PATH, fig_id + \".\" + fig_extension)\n",
        "    print(\"Saving figure\", fig_id)\n",
        "    if tight_layout:\n",
        "        plt.tight_layout()\n",
        "    plt.savefig(path, format=fig_extension, dpi=resolution)"
      ],
      "execution_count": null,
      "outputs": []
    },
    {
      "cell_type": "markdown",
      "metadata": {
        "id": "8J2KzBCNtyTc"
      },
      "source": [
        "# 연습문제 7-8"
      ]
    },
    {
      "cell_type": "markdown",
      "metadata": {
        "id": "Hr1jFPQItyTd"
      },
      "source": [
        "MNIST 데이터를 불러들여 훈련세트, 검증 세트, 테스트 세트로 나누세요. (Ex. 훈련에 50,000개 샘플, 검증에 10,000개 샘플, 테스트에 10,000개 샘플). 그럼 다음 랜덤 포레스트 분류기, 엑스트라 트리 분류기, SVM 분류기 같은 여러 종류의 분류기를 훈련, 그리고 검증 세트에서 개개의 분류기보다 더 높은 성능을 내도록 이들을 간접 또는 직접 \"투표\" 방법을 사용해 앙상블로 연결해보기.\n",
        "앙상블로 얻고 나면 테스트 세트로 확인. 개개의 분류기와 비교해서 성능이 얼마나 향상되나? "
      ]
    },
    {
      "cell_type": "code",
      "metadata": {
        "id": "7wf8E8ctvtUG"
      },
      "source": [
        "from sklearn.datasets import fetch_openml\n",
        "mnist = fetch_openml('mnist_784', version=1)"
      ],
      "execution_count": null,
      "outputs": []
    },
    {
      "cell_type": "markdown",
      "metadata": {
        "id": "N6zYLLTctyTd"
      },
      "source": [
        "The MNIST data set 를 불러옵니다."
      ]
    },
    {
      "cell_type": "code",
      "metadata": {
        "id": "xAipkFz1tyTd"
      },
      "source": [
        "from sklearn.model_selection import train_test_split\n",
        "\n",
        "X_train_val, X_test, y_train_val, y_test = train_test_split(\n",
        "    mnist.data, mnist.target, test_size=10000, random_state=42)\n",
        "X_train, X_val, y_train, y_val = train_test_split(\n",
        "    X_train_val, y_train_val, test_size=10000, random_state=42)"
      ],
      "execution_count": null,
      "outputs": []
    },
    {
      "cell_type": "markdown",
      "metadata": {
        "id": "oXmAtGH5tyTd"
      },
      "source": [
        "MNIST 데이터셋을 Train과 Test용으로 각각 만개씩 분류합니다."
      ]
    },
    {
      "cell_type": "markdown",
      "metadata": {
        "id": "YAdlz4-o0llM"
      },
      "source": [
        "Random Forest 분류기, Extra-Trees 분류기, 선형 SVM 및 MLP 분류기와 같은 다양한 분류기들로 이제 훈련해보자."
      ]
    },
    {
      "cell_type": "code",
      "metadata": {
        "id": "SL0_QMNgtyTe"
      },
      "source": [
        "from sklearn.ensemble import RandomForestClassifier, ExtraTreesClassifier\n",
        "from sklearn.svm import LinearSVC\n",
        "from sklearn.neural_network import MLPClassifier"
      ],
      "execution_count": null,
      "outputs": []
    },
    {
      "cell_type": "code",
      "metadata": {
        "id": "vfsiboV_tyTe"
      },
      "source": [
        "random_forest_clf = RandomForestClassifier(n_estimators=100, random_state=42)\n",
        "extra_trees_clf = ExtraTreesClassifier(n_estimators=100, random_state=42)\n",
        "svm_clf = LinearSVC(max_iter=100, tol=20, random_state=42)\n",
        "mlp_clf = MLPClassifier(random_state=42)"
      ],
      "execution_count": null,
      "outputs": []
    },
    {
      "cell_type": "code",
      "metadata": {
        "id": "pdYKlCwctyTe",
        "colab": {
          "base_uri": "https://localhost:8080/"
        },
        "outputId": "ba893136-1516-43bf-9a9d-f02771decab1"
      },
      "source": [
        "# 한 번에 여러 분류기들을 훈련 시켜보자\n",
        "models = [random_forest_clf, extra_trees_clf, svm_clf, mlp_clf]\n",
        "\n",
        "for model in models:\n",
        "    print(\"훈련 :\", model)\n",
        "    model.fit(X_train, y_train)"
      ],
      "execution_count": null,
      "outputs": [
        {
          "output_type": "stream",
          "text": [
            "훈련 : RandomForestClassifier(bootstrap=True, ccp_alpha=0.0, class_weight=None,\n",
            "                       criterion='gini', max_depth=None, max_features='auto',\n",
            "                       max_leaf_nodes=None, max_samples=None,\n",
            "                       min_impurity_decrease=0.0, min_impurity_split=None,\n",
            "                       min_samples_leaf=1, min_samples_split=2,\n",
            "                       min_weight_fraction_leaf=0.0, n_estimators=100,\n",
            "                       n_jobs=None, oob_score=False, random_state=42, verbose=0,\n",
            "                       warm_start=False)\n",
            "훈련 : ExtraTreesClassifier(bootstrap=False, ccp_alpha=0.0, class_weight=None,\n",
            "                     criterion='gini', max_depth=None, max_features='auto',\n",
            "                     max_leaf_nodes=None, max_samples=None,\n",
            "                     min_impurity_decrease=0.0, min_impurity_split=None,\n",
            "                     min_samples_leaf=1, min_samples_split=2,\n",
            "                     min_weight_fraction_leaf=0.0, n_estimators=100,\n",
            "                     n_jobs=None, oob_score=False, random_state=42, verbose=0,\n",
            "                     warm_start=False)\n",
            "훈련 : LinearSVC(C=1.0, class_weight=None, dual=True, fit_intercept=True,\n",
            "          intercept_scaling=1, loss='squared_hinge', max_iter=100,\n",
            "          multi_class='ovr', penalty='l2', random_state=42, tol=20, verbose=0)\n",
            "훈련 : MLPClassifier(activation='relu', alpha=0.0001, batch_size='auto', beta_1=0.9,\n",
            "              beta_2=0.999, early_stopping=False, epsilon=1e-08,\n",
            "              hidden_layer_sizes=(100,), learning_rate='constant',\n",
            "              learning_rate_init=0.001, max_fun=15000, max_iter=200,\n",
            "              momentum=0.9, n_iter_no_change=10, nesterovs_momentum=True,\n",
            "              power_t=0.5, random_state=42, shuffle=True, solver='adam',\n",
            "              tol=0.0001, validation_fraction=0.1, verbose=False,\n",
            "              warm_start=False)\n"
          ],
          "name": "stdout"
        }
      ]
    },
    {
      "cell_type": "code",
      "metadata": {
        "id": "guHkf7t0tyTe",
        "colab": {
          "base_uri": "https://localhost:8080/"
        },
        "outputId": "78904c31-133c-417b-8221-a0406b23f760"
      },
      "source": [
        "#1번과 2번 모두 한번에 검증하는 코드임, 다른 코드지만 같은 결과! 1번 매우 간단하다\n",
        "\n",
        "#1번 코드 1줄로 정확도 4가지 분류기 정확도 보기\n",
        "[model.score(X_val, y_val) for model in models]\n",
        "\n",
        "#2번 코드 3줄로 정확도 4가지 분류기 정확도 보기\n",
        "for model in models:\n",
        "    y_pred = model.predict(X_val)\n",
        "    print(\"정확도 : \",accuracy_score(y_val,y_pred))"
      ],
      "execution_count": null,
      "outputs": [
        {
          "output_type": "stream",
          "text": [
            "정확도 :  0.9692\n",
            "정확도 :  0.9715\n",
            "정확도 :  0.8662\n",
            "정확도 :  0.9639\n"
          ],
          "name": "stdout"
        }
      ]
    },
    {
      "cell_type": "markdown",
      "metadata": {
        "id": "UFeP-dUdtyTe"
      },
      "source": [
        "위와 같은 결과를 얻었습니다."
      ]
    },
    {
      "cell_type": "markdown",
      "metadata": {
        "id": "E5JqOuQOtyTe"
      },
      "source": [
        "\n",
        "하드 또는 소프트 투표 분류기를 사용하여 검증 세트에서 어떤 결과가 나오는지 앙상블로 결합해 보겠습니다."
      ]
    },
    {
      "cell_type": "code",
      "metadata": {
        "id": "HfpjWaoqtyTf"
      },
      "source": [
        "# 투표 분류기 \n",
        "from sklearn.ensemble import VotingClassifier\n",
        "\n",
        "named_models = [\n",
        "    (\"random_forest_clf\", random_forest_clf),\n",
        "    (\"extra_trees_clf\", extra_trees_clf),\n",
        "    (\"svm_clf\", svm_clf),\n",
        "    (\"mlp_clf\", mlp_clf),\n",
        "]"
      ],
      "execution_count": null,
      "outputs": []
    },
    {
      "cell_type": "code",
      "metadata": {
        "id": "qDeIqQjltyTf"
      },
      "source": [
        "voting_clf = VotingClassifier(named_models)"
      ],
      "execution_count": null,
      "outputs": []
    },
    {
      "cell_type": "code",
      "metadata": {
        "id": "09_mKIZYtyTf",
        "colab": {
          "base_uri": "https://localhost:8080/"
        },
        "outputId": "718d6014-1b9a-4e3e-e669-6a1ba242dfd5"
      },
      "source": [
        "voting_clf.fit(X_train, y_train)"
      ],
      "execution_count": null,
      "outputs": [
        {
          "output_type": "execute_result",
          "data": {
            "text/plain": [
              "VotingClassifier(estimators=[('random_forest_clf',\n",
              "                              RandomForestClassifier(bootstrap=True,\n",
              "                                                     ccp_alpha=0.0,\n",
              "                                                     class_weight=None,\n",
              "                                                     criterion='gini',\n",
              "                                                     max_depth=None,\n",
              "                                                     max_features='auto',\n",
              "                                                     max_leaf_nodes=None,\n",
              "                                                     max_samples=None,\n",
              "                                                     min_impurity_decrease=0.0,\n",
              "                                                     min_impurity_split=None,\n",
              "                                                     min_samples_leaf=1,\n",
              "                                                     min_samples_split=2,\n",
              "                                                     min_weight_fraction_leaf=0.0,\n",
              "                                                     n_estimators=100,\n",
              "                                                     n_jobs...\n",
              "                                            epsilon=1e-08,\n",
              "                                            hidden_layer_sizes=(100,),\n",
              "                                            learning_rate='constant',\n",
              "                                            learning_rate_init=0.001,\n",
              "                                            max_fun=15000, max_iter=200,\n",
              "                                            momentum=0.9, n_iter_no_change=10,\n",
              "                                            nesterovs_momentum=True,\n",
              "                                            power_t=0.5, random_state=42,\n",
              "                                            shuffle=True, solver='adam',\n",
              "                                            tol=0.0001, validation_fraction=0.1,\n",
              "                                            verbose=False, warm_start=False))],\n",
              "                 flatten_transform=True, n_jobs=None, voting='hard',\n",
              "                 weights=None)"
            ]
          },
          "metadata": {
            "tags": []
          },
          "execution_count": 114
        }
      ]
    },
    {
      "cell_type": "code",
      "metadata": {
        "id": "E9z9X0yCtyTg",
        "colab": {
          "base_uri": "https://localhost:8080/"
        },
        "outputId": "3c828219-fa19-45aa-84ca-9cb7496cc9e5"
      },
      "source": [
        "# 앙상블 학습의 결과 \n",
        "voting_clf.score(X_val, y_val)"
      ],
      "execution_count": null,
      "outputs": [
        {
          "output_type": "execute_result",
          "data": {
            "text/plain": [
              "0.9702"
            ]
          },
          "metadata": {
            "tags": []
          },
          "execution_count": 115
        }
      ]
    },
    {
      "cell_type": "code",
      "metadata": {
        "id": "NNWTW3yZtyTg",
        "colab": {
          "base_uri": "https://localhost:8080/"
        },
        "outputId": "c065ad44-403a-482f-eb9c-2cddfde23b8c"
      },
      "source": [
        "# 앙상블 학습에 들어간 개별적인 4개의 모델들에 대한 결과\n",
        "[model.score(X_val, y_val) for model in models]"
      ],
      "execution_count": null,
      "outputs": [
        {
          "output_type": "execute_result",
          "data": {
            "text/plain": [
              "[0.9692, 0.9715, 0.8662, 0.9639]"
            ]
          },
          "metadata": {
            "tags": []
          },
          "execution_count": 116
        }
      ]
    },
    {
      "cell_type": "markdown",
      "metadata": {
        "id": "IpXg6xoUtyTg"
      },
      "source": [
        "4가지 분류기들을 하나로 합쳐 앙상블 학습을 한 결과 정확도가 미세하게 더 증가하였습니다.\n",
        "\n",
        "정확도를 높이기 위하여 가장 낮은 정확도를 가진 SVM을 투표 분류기에서 제거하여 성능 향상 여부를 보겠습니다. \n",
        "\n",
        "set_params ()를 사용하여 None으로 설정시 SVM을 제거 할 수 있습니다. \n",
        "\n",
        "`None` using `set_params()` like this:"
      ]
    },
    {
      "cell_type": "code",
      "metadata": {
        "id": "Eg2znNu2tyTg",
        "colab": {
          "base_uri": "https://localhost:8080/"
        },
        "outputId": "019a3a0c-619f-4e99-b180-16baa445bac6"
      },
      "source": [
        "#SVM 제거\n",
        "voting_clf.set_params(svm_clf=None)"
      ],
      "execution_count": null,
      "outputs": [
        {
          "output_type": "execute_result",
          "data": {
            "text/plain": [
              "VotingClassifier(estimators=[('random_forest_clf',\n",
              "                              RandomForestClassifier(bootstrap=True,\n",
              "                                                     ccp_alpha=0.0,\n",
              "                                                     class_weight=None,\n",
              "                                                     criterion='gini',\n",
              "                                                     max_depth=None,\n",
              "                                                     max_features='auto',\n",
              "                                                     max_leaf_nodes=None,\n",
              "                                                     max_samples=None,\n",
              "                                                     min_impurity_decrease=0.0,\n",
              "                                                     min_impurity_split=None,\n",
              "                                                     min_samples_leaf=1,\n",
              "                                                     min_samples_split=2,\n",
              "                                                     min_weight_fraction_leaf=0.0,\n",
              "                                                     n_estimators=100,\n",
              "                                                     n_jobs...\n",
              "                                            epsilon=1e-08,\n",
              "                                            hidden_layer_sizes=(100,),\n",
              "                                            learning_rate='constant',\n",
              "                                            learning_rate_init=0.001,\n",
              "                                            max_fun=15000, max_iter=200,\n",
              "                                            momentum=0.9, n_iter_no_change=10,\n",
              "                                            nesterovs_momentum=True,\n",
              "                                            power_t=0.5, random_state=42,\n",
              "                                            shuffle=True, solver='adam',\n",
              "                                            tol=0.0001, validation_fraction=0.1,\n",
              "                                            verbose=False, warm_start=False))],\n",
              "                 flatten_transform=True, n_jobs=None, voting='hard',\n",
              "                 weights=None)"
            ]
          },
          "metadata": {
            "tags": []
          },
          "execution_count": 117
        }
      ]
    },
    {
      "cell_type": "code",
      "metadata": {
        "id": "tvG2s0A9tyTj",
        "colab": {
          "base_uri": "https://localhost:8080/"
        },
        "outputId": "2a9af326-fcb5-4efb-e488-8af823ff83ca"
      },
      "source": [
        "voting_clf.estimators_"
      ],
      "execution_count": null,
      "outputs": [
        {
          "output_type": "execute_result",
          "data": {
            "text/plain": [
              "[RandomForestClassifier(bootstrap=True, ccp_alpha=0.0, class_weight=None,\n",
              "                        criterion='gini', max_depth=None, max_features='auto',\n",
              "                        max_leaf_nodes=None, max_samples=None,\n",
              "                        min_impurity_decrease=0.0, min_impurity_split=None,\n",
              "                        min_samples_leaf=1, min_samples_split=2,\n",
              "                        min_weight_fraction_leaf=0.0, n_estimators=100,\n",
              "                        n_jobs=None, oob_score=False, random_state=42, verbose=0,\n",
              "                        warm_start=False),\n",
              " ExtraTreesClassifier(bootstrap=False, ccp_alpha=0.0, class_weight=None,\n",
              "                      criterion='gini', max_depth=None, max_features='auto',\n",
              "                      max_leaf_nodes=None, max_samples=None,\n",
              "                      min_impurity_decrease=0.0, min_impurity_split=None,\n",
              "                      min_samples_leaf=1, min_samples_split=2,\n",
              "                      min_weight_fraction_leaf=0.0, n_estimators=100,\n",
              "                      n_jobs=None, oob_score=False, random_state=42, verbose=0,\n",
              "                      warm_start=False),\n",
              " LinearSVC(C=1.0, class_weight=None, dual=True, fit_intercept=True,\n",
              "           intercept_scaling=1, loss='squared_hinge', max_iter=100,\n",
              "           multi_class='ovr', penalty='l2', random_state=42, tol=20, verbose=0),\n",
              " MLPClassifier(activation='relu', alpha=0.0001, batch_size='auto', beta_1=0.9,\n",
              "               beta_2=0.999, early_stopping=False, epsilon=1e-08,\n",
              "               hidden_layer_sizes=(100,), learning_rate='constant',\n",
              "               learning_rate_init=0.001, max_fun=15000, max_iter=200,\n",
              "               momentum=0.9, n_iter_no_change=10, nesterovs_momentum=True,\n",
              "               power_t=0.5, random_state=42, shuffle=True, solver='adam',\n",
              "               tol=0.0001, validation_fraction=0.1, verbose=False,\n",
              "               warm_start=False)]"
            ]
          },
          "metadata": {
            "tags": []
          },
          "execution_count": 118
        }
      ]
    },
    {
      "cell_type": "code",
      "metadata": {
        "id": "SGAXVoiQtyTj"
      },
      "source": [
        "# 안지워져서 확실하게 다시 지워주겠습니다.\n",
        "del voting_clf.estimators_[2]"
      ],
      "execution_count": null,
      "outputs": []
    },
    {
      "cell_type": "markdown",
      "metadata": {
        "id": "YvmbpvaItyTj"
      },
      "source": [
        "`VotingClassifier`의 score를 확인하겠습니다."
      ]
    },
    {
      "cell_type": "code",
      "metadata": {
        "id": "T32yNO1wtyTj",
        "colab": {
          "base_uri": "https://localhost:8080/"
        },
        "outputId": "233159b5-62e9-4e23-ffaa-435cd8542d75"
      },
      "source": [
        "voting_clf.score(X_val, y_val)"
      ],
      "execution_count": null,
      "outputs": [
        {
          "output_type": "execute_result",
          "data": {
            "text/plain": [
              "0.9736"
            ]
          },
          "metadata": {
            "tags": []
          },
          "execution_count": 120
        }
      ]
    },
    {
      "cell_type": "markdown",
      "metadata": {
        "id": "g89J7JCwtyTk"
      },
      "source": [
        "SVM를 제거한 결과 성능이 올라갔습니다. 0.9702 -> 0.9736\n",
        "\n",
        "이것은 SVM이 성능 저하를 시켰다고 볼 수 있습니다.\n",
        "\n",
        "이제 소프트 투표 분류기로 결과를 확인해보겠습니다.\n",
        "\n",
        "이것은 간접투표에 해당하며 훈련은 이미 위에서 진행했습니다."
      ]
    },
    {
      "cell_type": "code",
      "metadata": {
        "id": "Fg32g5QjtyTk"
      },
      "source": [
        "# 간접투표\n",
        "voting_clf.voting = \"soft\""
      ],
      "execution_count": null,
      "outputs": []
    },
    {
      "cell_type": "code",
      "metadata": {
        "id": "SlLzE3GntyTk",
        "colab": {
          "base_uri": "https://localhost:8080/"
        },
        "outputId": "e7d8602a-03b8-478e-dc93-b9f4973f3a1e"
      },
      "source": [
        "# 간접투표 결과\n",
        "voting_clf.score(X_val, y_val)"
      ],
      "execution_count": null,
      "outputs": [
        {
          "output_type": "execute_result",
          "data": {
            "text/plain": [
              "0.97"
            ]
          },
          "metadata": {
            "tags": []
          },
          "execution_count": 122
        }
      ]
    },
    {
      "cell_type": "markdown",
      "metadata": {
        "id": "8YdWuPMttyTk"
      },
      "source": [
        "하드 투표 방식은 0.9736 의 점수를 얻은 반면,\n",
        "\n",
        "소포트 투표 방식은 0.97로 더 낮은 점수를 보여주고 있습니다."
      ]
    },
    {
      "cell_type": "markdown",
      "metadata": {
        "id": "wUvX8fGRtyTk"
      },
      "source": [
        "자 그러면 이제 MNIST Test data를 이용하여 지금까지\n",
        "만들어진 분류기들을 총 평가 및 비교 하겠습니다."
      ]
    },
    {
      "cell_type": "code",
      "metadata": {
        "id": "Vskwi8ixtyTk",
        "colab": {
          "base_uri": "https://localhost:8080/"
        },
        "outputId": "19aac78f-26e9-4e2d-cd8b-cf812e41fb9f"
      },
      "source": [
        "# 앙상블 학습 hard\n",
        "voting_clf.voting = \"hard\"\n",
        "voting_clf.score(X_test, y_test)"
      ],
      "execution_count": null,
      "outputs": [
        {
          "output_type": "execute_result",
          "data": {
            "text/plain": [
              "0.9704"
            ]
          },
          "metadata": {
            "tags": []
          },
          "execution_count": 123
        }
      ]
    },
    {
      "cell_type": "code",
      "metadata": {
        "id": "UULzKrMw_fj3",
        "colab": {
          "base_uri": "https://localhost:8080/"
        },
        "outputId": "5d656569-a293-4e5b-a8c1-a06e631d75c1"
      },
      "source": [
        "# 앙상블 학습 soft\n",
        "voting_clf.voting = \"soft\"\n",
        "voting_clf.score(X_test, y_test)"
      ],
      "execution_count": null,
      "outputs": [
        {
          "output_type": "execute_result",
          "data": {
            "text/plain": [
              "0.9671"
            ]
          },
          "metadata": {
            "tags": []
          },
          "execution_count": 124
        }
      ]
    },
    {
      "cell_type": "code",
      "metadata": {
        "id": "DNO-MRwltyTl",
        "colab": {
          "base_uri": "https://localhost:8080/"
        },
        "outputId": "f1b2af30-d6f7-4a05-e395-1b0fee8f9e32"
      },
      "source": [
        "# 사용한 모델들 ( RandomForestClassifier, ExtraTreesClassifier, LinearSVC, MLPClassifier)\n",
        "\n",
        "[model.score(X_val, y_val) for model in models]"
      ],
      "execution_count": null,
      "outputs": [
        {
          "output_type": "execute_result",
          "data": {
            "text/plain": [
              "[0.9692, 0.9715, 0.8662, 0.9639]"
            ]
          },
          "metadata": {
            "tags": []
          },
          "execution_count": 126
        }
      ]
    },
    {
      "cell_type": "markdown",
      "metadata": {
        "id": "qY3zq87vtyTl"
      },
      "source": [
        "[Test data 결과] \n",
        "\n",
        "투표 분류기를 사용할 경우, 각각의 분류기들의 장점과 단점들을 서로 보안할 수 있어 정확도가 더 상승할 수 있었습니다."
      ]
    }
  ]
}